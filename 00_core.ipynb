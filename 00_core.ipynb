{
 "cells": [
  {
   "cell_type": "raw",
   "metadata": {},
   "source": [
    "---\n",
    "title: core\n",
    "output-file: core.html\n",
    "description: Fill in a module description here\n",
    "---"
   ]
  },
  {
   "cell_type": "code",
   "execution_count": null,
   "metadata": {},
   "outputs": [],
   "source": [
    "#| default_exp genericsample"
   ]
  },
  {
   "cell_type": "code",
   "execution_count": null,
   "metadata": {},
   "outputs": [],
   "source": [
    "#| hide\n",
    "from nbdev.showdoc import *"
   ]
  },
  {
   "cell_type": "code",
   "execution_count": null,
   "metadata": {},
   "outputs": [],
   "source": [
    "#| export\n",
    "import os\n",
    "from pathlib import Path\n",
    "import hashlib\n",
    "import textwrap\n",
    "from glob import glob\n",
    "\n",
    "import pandas as pd\n",
    "import typer\n",
    "from rich import print\n",
    "from rich.console import Console\n",
    "from rich.markdown import Markdown\n",
    "from rich.progress import wrap_file\n",
    "from rich.table import Table\n",
    "\n",
    "pd.set_option(\"display.max_colwidth\", 1000)\n",
    "pd.set_option(\"display.max_rows\", 30)\n",
    "app = typer.Typer()"
   ]
  },
  {
   "cell_type": "code",
   "execution_count": null,
   "metadata": {},
   "outputs": [],
   "source": [
    "#| hide\n",
    "# cleanup and start fresh\n",
    "!rm -rf ~/.cache"
   ]
  },
  {
   "cell_type": "code",
   "execution_count": null,
   "metadata": {},
   "outputs": [],
   "source": [
    "#| export\n",
    "def cache_data(\n",
    "    url:str = \"\",\n",
    "    force:bool = False,\n",
    "    timedelta=pd.Timedelta(.5, unit='hour'),\n",
    "    cache:bool = True,\n",
    "    cleanup:bool = True,\n",
    "    cache_location:str = \"~/.cache/sampler\",\n",
    "    keeplast:int = 5,\n",
    "):\n",
    "    \"\"\"Checks if the data exists or if the force is turned on. Returns \"\"\"\n",
    "    \n",
    "    # Check cache location, if not exists create it.\n",
    "    cache_location = cache_location.rstrip('/')\n",
    "    cache_path = Path(os.path.expanduser(cache_location))\n",
    "    if not cache_path.is_dir():\n",
    "        Path(cache_path).mkdir(parents=True, exist_ok=True)\n",
    "    \n",
    "    # Look at the URL format a few options\n",
    "    first = url.split(\"#\")[0]\n",
    "    sheet_id = url.split(\"/d/\")[1].split(\"/\")[0]\n",
    "    long_url = f\"https://docs.google.com/spreadsheets/d/{sheet_id}/gviz/tq?tqx=out:csv\"\n",
    "\n",
    "    # Create unique id for the URL\n",
    "    slug = hashlib.md5(first.encode('utf-8')).hexdigest()\n",
    "    # Create list of files (reverse sorted by time) that have the unique id for the URL\n",
    "    files = sorted(glob(f\"{cache_path}/*_{slug}.parquet\"), reverse=True)\n",
    "    \n",
    "    timed_out = True\n",
    "    now = pd.Timestamp('now')\n",
    "    if len(files) > 0:\n",
    "        file = files[0]\n",
    "        time_last_cache = pd.to_datetime(file.split('/')[-1].split('_')[0], format=\"%Y-%m-%dT%H:%M:%S:%f\")\n",
    "        timed_out = (now - time_last_cache) > timedelta\n",
    "    \n",
    "    new_file = False\n",
    "    if force or timed_out:\n",
    "        df = pd.read_csv(long_url)\n",
    "        new_file = True\n",
    "    else:\n",
    "        df = pd.read_parquet(file)\n",
    "    if \"weight\" not in df.columns:\n",
    "        df[\"weight\"] = 1.0\n",
    "    df[\"weight\"] = df[\"weight\"].fillna(1.0)\n",
    "    if cache and new_file:\n",
    "        df.to_parquet(f\"{cache_path}/{now.strftime('%Y-%m-%dT%H:%M:%S:%f')}_{slug}.parquet\")\n",
    "    if cleanup:\n",
    "        for file in files[keeplast:]:\n",
    "            os.remove(file)\n",
    "    return df"
   ]
  },
  {
   "cell_type": "code",
   "execution_count": null,
   "metadata": {},
   "outputs": [],
   "source": [
    "#| export\n",
    "@app.command()\n",
    "def sample_from_spreadsheet(\n",
    "    url: str = \"https://docs.google.com/spreadsheets/d/1F3-gMc8J57UBUo2DTsvVU7C1U1uncEpXmzE13DKwGQQ/edit#gid=1444336398\",\n",
    "    n_samples: int = 10,\n",
    "    title: str = \"\",\n",
    "    row_spacing: int = 5,\n",
    "    first_n_columns: int = 1,\n",
    "):\n",
    "    console = Console()\n",
    "    with console.status(\n",
    "        \"[bold green]Getting the data...\", spinner=\"aesthetic\"\n",
    "    ) as status:\n",
    "        df = cache_data(\n",
    "                url=url,\n",
    "             )\n",
    "\n",
    "    ex = df.sample(n_samples, weights=df[\"weight\"])\n",
    "    table = Table(title=title)\n",
    "\n",
    "    columns = df.columns\n",
    "    for col in columns[:first_n_columns]:\n",
    "        table.add_column(col, justify=\"left\", style=\"cyan\", no_wrap=False)\n",
    "    # table.add_column(\"Year\", justify=\"center\", style=\"magenta\")\n",
    "\n",
    "    for index, (i, row) in enumerate(ex.iterrows(), start=1):\n",
    "        full_row = [row[col] for col in columns[:first_n_columns]]\n",
    "        # table.add_row(row[df.columns[0]])\n",
    "        table.add_row(*full_row)\n",
    "        if (index % row_spacing == 0) & (index < len(ex)) & (row_spacing > 0):\n",
    "            table.add_row()\n",
    "\n",
    "    md = Markdown(f\"[Link to spreadsheet]({url})\")\n",
    "    table.caption = md\n",
    "    print()\n",
    "    print()\n",
    "    console.print(table)\n",
    "    print()\n",
    "    print()\n",
    "\n",
    "\n",
    "# if __name__ == \"__main__\":\n",
    "#     app()"
   ]
  },
  {
   "cell_type": "code",
   "execution_count": null,
   "metadata": {},
   "outputs": [],
   "source": [
    "df = cache_data(\n",
    "    url=\"https://docs.google.com/spreadsheets/d/1F3-gMc8J57UBUo2DTsvVU7C1U1uncEpXmzE13DKwGQQ/edit#gid=1444336398\",\n",
    "    timedelta=pd.Timedelta(0.5, unit='hour'),\n",
    "    keeplast=3,\n",
    "    cleanup=True,\n",
    ")"
   ]
  },
  {
   "cell_type": "code",
   "execution_count": null,
   "metadata": {},
   "outputs": [
    {
     "data": {
      "text/html": [
       "<pre style=\"white-space:pre;overflow-x:auto;line-height:normal;font-family:Menlo,'DejaVu Sans Mono',consolas,'Courier New',monospace\"></pre>\n"
      ],
      "text/plain": []
     },
     "metadata": {},
     "output_type": "display_data"
    },
    {
     "data": {
      "text/html": [
       "<pre style=\"white-space:pre;overflow-x:auto;line-height:normal;font-family:Menlo,'DejaVu Sans Mono',consolas,'Courier New',monospace\">\n",
       "</pre>\n"
      ],
      "text/plain": [
       "\n"
      ]
     },
     "metadata": {},
     "output_type": "display_data"
    },
    {
     "data": {
      "text/html": [
       "<pre style=\"white-space:pre;overflow-x:auto;line-height:normal;font-family:Menlo,'DejaVu Sans Mono',consolas,'Courier New',monospace\">\n",
       "</pre>\n"
      ],
      "text/plain": [
       "\n"
      ]
     },
     "metadata": {},
     "output_type": "display_data"
    },
    {
     "data": {
      "text/html": [
       "<pre style=\"white-space:pre;overflow-x:auto;line-height:normal;font-family:Menlo,'DejaVu Sans Mono',consolas,'Courier New',monospace\">┏━━━━━━━━━━━━━━━━━━━━━━━━━━━━━━━━━━━━━━━━━━━━━━━━━━━━━━━━━━━━━━┓\n",
       "┃<span style=\"font-weight: bold\"> Title                                                        </span>┃\n",
       "┡━━━━━━━━━━━━━━━━━━━━━━━━━━━━━━━━━━━━━━━━━━━━━━━━━━━━━━━━━━━━━━┩\n",
       "│<span style=\"color: #008080; text-decoration-color: #008080\"> The Unix-Haters Handbook                                     </span>│\n",
       "│<span style=\"color: #008080; text-decoration-color: #008080\"> Modern Views of Electricity                                  </span>│\n",
       "│<span style=\"color: #008080; text-decoration-color: #008080\"> And Suddenly the Inventor Appeared                           </span>│\n",
       "│<span style=\"color: #008080; text-decoration-color: #008080\"> What is Life?                                                </span>│\n",
       "│<span style=\"color: #008080; text-decoration-color: #008080\"> Analog VLSI and Neural Systems                               </span>│\n",
       "│<span style=\"color: #008080; text-decoration-color: #008080\">                                                              </span>│\n",
       "│<span style=\"color: #008080; text-decoration-color: #008080\"> Renaissance Engineers from Brunelleschi to Leonardo da Vinci </span>│\n",
       "│<span style=\"color: #008080; text-decoration-color: #008080\"> Tesla: Man Out of Time                                       </span>│\n",
       "│<span style=\"color: #008080; text-decoration-color: #008080\"> The Disappearance of Childhood                               </span>│\n",
       "│<span style=\"color: #008080; text-decoration-color: #008080\"> Patterns of Plausible Inference                              </span>│\n",
       "│<span style=\"color: #008080; text-decoration-color: #008080\"> Switch                                                       </span>│\n",
       "└──────────────────────────────────────────────────────────────┘\n",
       "<a href=\"https://docs.google.com/spreadsheets/d/1F3-gMc8J57UBUo2DTsvVU7C1U1uncEpXmzE13DKwGQQ/edit#gid=1444336398\" target=\"_blank\"><span style=\"color: #0000ff; text-decoration-color: #0000ff\">Link to spreadsheet</span></a>                                             \n",
       "</pre>\n"
      ],
      "text/plain": [
       "┏━━━━━━━━━━━━━━━━━━━━━━━━━━━━━━━━━━━━━━━━━━━━━━━━━━━━━━━━━━━━━━┓\n",
       "┃\u001b[1m \u001b[0m\u001b[1mTitle                                                       \u001b[0m\u001b[1m \u001b[0m┃\n",
       "┡━━━━━━━━━━━━━━━━━━━━━━━━━━━━━━━━━━━━━━━━━━━━━━━━━━━━━━━━━━━━━━┩\n",
       "│\u001b[36m \u001b[0m\u001b[36mThe Unix-Haters Handbook                                    \u001b[0m\u001b[36m \u001b[0m│\n",
       "│\u001b[36m \u001b[0m\u001b[36mModern Views of Electricity                                 \u001b[0m\u001b[36m \u001b[0m│\n",
       "│\u001b[36m \u001b[0m\u001b[36mAnd Suddenly the Inventor Appeared                          \u001b[0m\u001b[36m \u001b[0m│\n",
       "│\u001b[36m \u001b[0m\u001b[36mWhat is Life?                                               \u001b[0m\u001b[36m \u001b[0m│\n",
       "│\u001b[36m \u001b[0m\u001b[36mAnalog VLSI and Neural Systems                              \u001b[0m\u001b[36m \u001b[0m│\n",
       "│\u001b[36m \u001b[0m\u001b[36m                                                            \u001b[0m\u001b[36m \u001b[0m│\n",
       "│\u001b[36m \u001b[0m\u001b[36mRenaissance Engineers from Brunelleschi to Leonardo da Vinci\u001b[0m\u001b[36m \u001b[0m│\n",
       "│\u001b[36m \u001b[0m\u001b[36mTesla: Man Out of Time                                      \u001b[0m\u001b[36m \u001b[0m│\n",
       "│\u001b[36m \u001b[0m\u001b[36mThe Disappearance of Childhood                              \u001b[0m\u001b[36m \u001b[0m│\n",
       "│\u001b[36m \u001b[0m\u001b[36mPatterns of Plausible Inference                             \u001b[0m\u001b[36m \u001b[0m│\n",
       "│\u001b[36m \u001b[0m\u001b[36mSwitch                                                      \u001b[0m\u001b[36m \u001b[0m│\n",
       "└──────────────────────────────────────────────────────────────┘\n",
       "\u001b]8;id=427946;https://docs.google.com/spreadsheets/d/1F3-gMc8J57UBUo2DTsvVU7C1U1uncEpXmzE13DKwGQQ/edit#gid=1444336398\u001b\\\u001b[94mLink to spreadsheet\u001b[0m\u001b]8;;\u001b\\                                             \n"
      ]
     },
     "metadata": {},
     "output_type": "display_data"
    },
    {
     "data": {
      "text/html": [
       "<pre style=\"white-space:pre;overflow-x:auto;line-height:normal;font-family:Menlo,'DejaVu Sans Mono',consolas,'Courier New',monospace\">\n",
       "</pre>\n"
      ],
      "text/plain": [
       "\n"
      ]
     },
     "metadata": {},
     "output_type": "display_data"
    },
    {
     "data": {
      "text/html": [
       "<pre style=\"white-space:pre;overflow-x:auto;line-height:normal;font-family:Menlo,'DejaVu Sans Mono',consolas,'Courier New',monospace\">\n",
       "</pre>\n"
      ],
      "text/plain": [
       "\n"
      ]
     },
     "metadata": {},
     "output_type": "display_data"
    }
   ],
   "source": [
    "df2 = sample_from_spreadsheet()"
   ]
  },
  {
   "cell_type": "code",
   "execution_count": null,
   "metadata": {},
   "outputs": [],
   "source": []
  },
  {
   "cell_type": "code",
   "execution_count": null,
   "metadata": {},
   "outputs": [],
   "source": [
    "#| hide\n",
    "import nbdev; nbdev.nbdev_export()"
   ]
  }
 ],
 "metadata": {
  "kernelspec": {
   "display_name": "Python 3 (ipykernel)",
   "language": "python",
   "name": "python3"
  }
 },
 "nbformat": 4,
 "nbformat_minor": 4
}
